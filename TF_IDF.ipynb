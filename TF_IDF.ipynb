{
 "cells": [
  {
   "cell_type": "code",
   "execution_count": 14,
   "id": "f3479afb-4f31-4043-a7a0-1ac6bd180139",
   "metadata": {},
   "outputs": [],
   "source": [
    "import pandas as pd\n",
    "from sklearn.feature_extraction.text import TfidfVectorizer"
   ]
  },
  {
   "cell_type": "code",
   "execution_count": 15,
   "id": "c04ecd00-f5b8-40b5-b9f8-cd775f5532fc",
   "metadata": {},
   "outputs": [],
   "source": [
    "data = [' Most shark attacks occur about 10 feet from the beach since that is where the people are',\n",
    "        'the efficiency with which he paired the socks in the drawer was quite admirable',\n",
    "        'carol drank the blood as if she were a vampire',\n",
    "        'giving directions that the mountains are to the west only works when you can see them',\n",
    "        'the sign said there was road work ahead so he decided to speed up',\n",
    "        'the gruff old man sat in the back of the bait shop grumbling to himself as he scooped out a handful of worms']"
   ]
  },
  {
   "cell_type": "code",
   "execution_count": 16,
   "id": "60c76943-af5a-4e72-916b-1ca0e8945094",
   "metadata": {},
   "outputs": [],
   "source": [
    "tfidvec = TfidfVectorizer()"
   ]
  },
  {
   "cell_type": "code",
   "execution_count": 17,
   "id": "b4ef5971-2594-42e7-91c2-6f8ea845dc97",
   "metadata": {},
   "outputs": [],
   "source": [
    "tfidvec_fit = tfidvec.fit_transform(data)"
   ]
  },
  {
   "cell_type": "code",
   "execution_count": 19,
   "id": "b3bde40f-5596-4240-9882-3d900db8ea4a",
   "metadata": {},
   "outputs": [],
   "source": [
    "tfidvec_bag = pd.DataFrame(tfidvec_fit.toarray(), columns=tfidvec.get_feature_names_out())"
   ]
  },
  {
   "cell_type": "code",
   "execution_count": 20,
   "id": "fa11f7fd-4244-44da-9b6e-af7840cbca1f",
   "metadata": {},
   "outputs": [
    {
     "name": "stdout",
     "output_type": "stream",
     "text": [
      "         10     about  admirable     ahead  ...      work    works    worms      you\n",
      "0  0.257061  0.257061   0.000000  0.000000  ...  0.000000  0.00000  0.00000  0.00000\n",
      "1  0.000000  0.000000   0.293641  0.000000  ...  0.000000  0.00000  0.00000  0.00000\n",
      "2  0.000000  0.000000   0.000000  0.000000  ...  0.000000  0.00000  0.00000  0.00000\n",
      "3  0.000000  0.000000   0.000000  0.000000  ...  0.000000  0.27104  0.00000  0.27104\n",
      "4  0.000000  0.000000   0.000000  0.290766  ...  0.290766  0.00000  0.00000  0.00000\n",
      "5  0.000000  0.000000   0.000000  0.000000  ...  0.000000  0.00000  0.21782  0.00000\n",
      "\n",
      "[6 rows x 71 columns]\n"
     ]
    }
   ],
   "source": [
    "print(tfidvec_bag)"
   ]
  },
  {
   "cell_type": "code",
   "execution_count": 21,
   "id": "c6cd81b2-ad06-4997-b403-4719cfabcaf3",
   "metadata": {},
   "outputs": [],
   "source": [
    "data2 = [\n",
    "    'Despite the clear sky, the storm rolled in without warning near the hiking trail',\n",
    "    'his ability to alphabetize the spice rack in under five minutes was surprisingly impressive',\n",
    "    'lucas stared at the mirror unsure if the reflection truly belonged to him',\n",
    "    'navigating using stars only works if the night sky isn’t covered in clouds',\n",
    "    'the GPS said turn left but he chose to trust his instincts instead',\n",
    "    'the elderly woman muttered softly while organizing her collection of antique buttons'\n",
    "]\n"
   ]
  },
  {
   "cell_type": "code",
   "execution_count": 22,
   "id": "fe97a4f8-cb08-420c-b29e-b1b470f4becc",
   "metadata": {},
   "outputs": [],
   "source": [
    "tfidvec_sky = TfidfVectorizer()"
   ]
  },
  {
   "cell_type": "code",
   "execution_count": null,
   "id": "3a6fcf54-8364-4b0a-8f29-70cc91060bf8",
   "metadata": {},
   "outputs": [],
   "source": [
    "tfidvec_fit_sky = tfidvec.fit_transform(data)"
   ]
  }
 ],
 "metadata": {
  "kernelspec": {
   "display_name": "Python 3 (ipykernel)",
   "language": "python",
   "name": "python3"
  },
  "language_info": {
   "codemirror_mode": {
    "name": "ipython",
    "version": 3
   },
   "file_extension": ".py",
   "mimetype": "text/x-python",
   "name": "python",
   "nbconvert_exporter": "python",
   "pygments_lexer": "ipython3",
   "version": "3.13.5"
  }
 },
 "nbformat": 4,
 "nbformat_minor": 5
}
